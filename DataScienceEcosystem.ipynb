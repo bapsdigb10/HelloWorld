{
 "cells": [
  {
   "cell_type": "markdown",
   "id": "30b3efd7-e3bd-4d99-a230-90855dff1b95",
   "metadata": {},
   "source": [
    "<H1>Data Science Tools and Ecosystem</H1>\n"
   ]
  },
  {
   "cell_type": "markdown",
   "id": "0f6bab3f-0c0f-4d4c-af0d-7101b053d032",
   "metadata": {},
   "source": [
    "In this notebook, Data Science Tools and Ecosystem are summarized."
   ]
  },
  {
   "cell_type": "markdown",
   "id": "71b43c07-cef3-4f2d-b850-0a91e53162dc",
   "metadata": {},
   "source": [
    "<b>Objectives</b>\n",
    "<UL>\n",
    "    <LI>Introduction to datascience and its tools, libraries</LI>\n",
    "    <LI>Introduction to Python and libraries</LI>\n",
    "    <LI>Introduction to Rstudio and its visualisation tools</LI>\n",
    "    <LI>Introduction to Git, Github and different commands</LI>\n",
    "</UL>"
   ]
  },
  {
   "cell_type": "markdown",
   "id": "75adbca9-7086-4669-9a73-bc23ee24e08c",
   "metadata": {},
   "source": [
    "Some of the popular languages that Data Scientists use are:\n",
    "<ol>\n",
    "    <li>PYTHON</li>\n",
    "    <li>JULIA</li>\n",
    "    <li>SCALA</li>\n",
    "    <li>R</li>\n",
    "    <li>SQL</li>\n",
    "</ol>"
   ]
  },
  {
   "cell_type": "markdown",
   "id": "3347d3c0-d44d-45ee-b6d6-48a2d63b0ed2",
   "metadata": {},
   "source": [
    "Some of the commonly used libraries used by Data Scientists are:\n",
    "<ol>\n",
    "    <li>Matplotlib</li>\n",
    "    <li>NumPy</li>\n",
    "    <li>Scikit-learn</li>\n",
    "    <li>TensorFlow</li>\n",
    "    <li>Keras</li>\n",
    "</ol>"
   ]
  },
  {
   "cell_type": "markdown",
   "id": "a4c5e979-c919-4328-a27c-39e053a7bbbd",
   "metadata": {},
   "source": [
    "<table>\n",
    "    <tr>\n",
    "        <th>Datascience Tools</th>\n",
    "    </tr>\n",
    "    <tr>\n",
    "        <td>Python</td>\n",
    "    </tr>\n",
    "    <tr>\n",
    "        <td>Power BI</td>\n",
    "    </tr>\n",
    "    <TR>\n",
    "        <TD>Excel</TD>\n",
    "    </TR>\n",
    "    <tr>\n",
    "        <td>RStudio</td>\n",
    "    </tr>\n",
    "</table>"
   ]
  },
  {
   "cell_type": "markdown",
   "id": "7a9d854f-1db8-46f5-865c-43022b7b5b7e",
   "metadata": {},
   "source": [
    "<h3>Below are a few examples of evaluating arithmetic expressions in Python</h3>"
   ]
  },
  {
   "cell_type": "code",
   "execution_count": 58,
   "id": "3fd1a92a-ac3f-4ffa-8bbf-c461090c9ae2",
   "metadata": {},
   "outputs": [
    {
     "name": "stdout",
     "output_type": "stream",
     "text": [
      "17\n"
     ]
    }
   ],
   "source": [
    "#This a simple arithmetic expression to mutiply then add integers\n",
    "a=3*4\n",
    "b=5\n",
    "c=a+b\n",
    "print(c)"
   ]
  },
  {
   "cell_type": "code",
   "execution_count": 59,
   "id": "8933d7fd-e7d9-4234-90d5-3cee4d421131",
   "metadata": {},
   "outputs": [
    {
     "name": "stdin",
     "output_type": "stream",
     "text": [
      "Enter minutes values 200\n"
     ]
    },
    {
     "name": "stdout",
     "output_type": "stream",
     "text": [
      "Hours:3\n",
      "Minutes:20\n"
     ]
    }
   ],
   "source": [
    "#This will allow conversion of minutes to hour\n",
    "a=int(input(\"Enter minutes values\"))\n",
    "hours=0\n",
    "minutes=0\n",
    "if a < 60:\n",
    "    print(\"Minutes:\" + str(a))\n",
    "else:\n",
    "    hours=a//60\n",
    "    minutes=a%60\n",
    "    print(\"Hours:\"+str(hours))\n",
    "    print(\"Minutes:\"+str(minutes))"
   ]
  },
  {
   "cell_type": "markdown",
   "id": "fbf92ceb-e185-48b3-af30-8d6ba7479f68",
   "metadata": {},
   "source": [
    "<h2>Author</h2>\n",
    "Biprajit Deb"
   ]
  }
 ],
 "metadata": {
  "kernelspec": {
   "display_name": "Python 3 (ipykernel)",
   "language": "python",
   "name": "python3"
  },
  "language_info": {
   "codemirror_mode": {
    "name": "ipython",
    "version": 3
   },
   "file_extension": ".py",
   "mimetype": "text/x-python",
   "name": "python",
   "nbconvert_exporter": "python",
   "pygments_lexer": "ipython3",
   "version": "3.12.4"
  }
 },
 "nbformat": 4,
 "nbformat_minor": 5
}
